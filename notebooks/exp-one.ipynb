{
 "cells": [
  {
   "cell_type": "code",
   "execution_count": 1,
   "metadata": {},
   "outputs": [],
   "source": [
    "import mlflow\n",
    "import pandas as pd\n",
    "import mlflow.sklearn\n",
    "from sklearn.feature_extraction.text import CountVectorizer, TfidfVectorizer\n",
    "from sklearn.model_selection import train_test_split\n",
    "from sklearn.linear_model import LogisticRegression\n",
    "from sklearn.metrics import accuracy_score, precision_score, recall_score, f1_score\n",
    "import pandas as pd\n",
    "import re\n",
    "import string\n",
    "from nltk.corpus import stopwords\n",
    "from nltk.stem import WordNetLemmatizer\n",
    "import numpy as np"
   ]
  },
  {
   "cell_type": "code",
   "execution_count": 4,
   "metadata": {},
   "outputs": [],
   "source": [
    "# # Load the train and test sets\n",
    "# train_df = pd.read_csv('train_data.csv')\n",
    "# test_df = pd.read_csv('test_data.csv')\n",
    "\n",
    "# # Combine the two datasets. Set ignore_index to False.\n",
    "# df = pd.concat([train_df,test_df],ignore_index=True).sample(frac=1, random_state=42).reset_index(drop=True)\n",
    "# df.to_csv('data.csv',index=False)"
   ]
  },
  {
   "cell_type": "code",
   "execution_count": 25,
   "metadata": {},
   "outputs": [
    {
     "data": {
      "text/html": [
       "<div>\n",
       "<style scoped>\n",
       "    .dataframe tbody tr th:only-of-type {\n",
       "        vertical-align: middle;\n",
       "    }\n",
       "\n",
       "    .dataframe tbody tr th {\n",
       "        vertical-align: top;\n",
       "    }\n",
       "\n",
       "    .dataframe thead th {\n",
       "        text-align: right;\n",
       "    }\n",
       "</style>\n",
       "<table border=\"1\" class=\"dataframe\">\n",
       "  <thead>\n",
       "    <tr style=\"text-align: right;\">\n",
       "      <th></th>\n",
       "      <th>title</th>\n",
       "      <th>link</th>\n",
       "      <th>domain</th>\n",
       "      <th>published_date</th>\n",
       "      <th>topic</th>\n",
       "    </tr>\n",
       "  </thead>\n",
       "  <tbody>\n",
       "    <tr>\n",
       "      <th>27583</th>\n",
       "      <td>Glasgow pub hit by coronavirus as drinker test...</td>\n",
       "      <td>https://in.news.yahoo.com/glasgow-pub-conducts...</td>\n",
       "      <td>in.news.yahoo.com</td>\n",
       "      <td>2020-08-06 14:09:00</td>\n",
       "      <td>HEALTH</td>\n",
       "    </tr>\n",
       "    <tr>\n",
       "      <th>94783</th>\n",
       "      <td>Dinosaur leaves mark in Kelantan</td>\n",
       "      <td>https://www.thestar.com.my/news/nation/2020/08...</td>\n",
       "      <td>thestar.com.my</td>\n",
       "      <td>2020-08-16 00:12:11</td>\n",
       "      <td>NATION</td>\n",
       "    </tr>\n",
       "    <tr>\n",
       "      <th>101314</th>\n",
       "      <td>India crosses grim milestone of 50,000 COVID-1...</td>\n",
       "      <td>https://www.geo.tv/latest/303124-india-crosses...</td>\n",
       "      <td>geo.tv</td>\n",
       "      <td>2020-08-17 04:59:00</td>\n",
       "      <td>WORLD</td>\n",
       "    </tr>\n",
       "    <tr>\n",
       "      <th>15627</th>\n",
       "      <td>Tom Brady, Rob Gronkowski, and Buccaneers hit ...</td>\n",
       "      <td>https://www.bostonglobe.com/2020/08/04/sports/...</td>\n",
       "      <td>bostonglobe.com</td>\n",
       "      <td>2020-08-04 23:55:02</td>\n",
       "      <td>SPORTS</td>\n",
       "    </tr>\n",
       "    <tr>\n",
       "      <th>2888</th>\n",
       "      <td>Can Top Glove surpass market cap of Asean's la...</td>\n",
       "      <td>https://www.theedgemarkets.com/article/can-top...</td>\n",
       "      <td>theedgemarkets.com</td>\n",
       "      <td>2020-08-03 09:00:00</td>\n",
       "      <td>BUSINESS</td>\n",
       "    </tr>\n",
       "  </tbody>\n",
       "</table>\n",
       "</div>"
      ],
      "text/plain": [
       "                                                    title  \\\n",
       "27583   Glasgow pub hit by coronavirus as drinker test...   \n",
       "94783                    Dinosaur leaves mark in Kelantan   \n",
       "101314  India crosses grim milestone of 50,000 COVID-1...   \n",
       "15627   Tom Brady, Rob Gronkowski, and Buccaneers hit ...   \n",
       "2888    Can Top Glove surpass market cap of Asean's la...   \n",
       "\n",
       "                                                     link              domain  \\\n",
       "27583   https://in.news.yahoo.com/glasgow-pub-conducts...   in.news.yahoo.com   \n",
       "94783   https://www.thestar.com.my/news/nation/2020/08...      thestar.com.my   \n",
       "101314  https://www.geo.tv/latest/303124-india-crosses...              geo.tv   \n",
       "15627   https://www.bostonglobe.com/2020/08/04/sports/...     bostonglobe.com   \n",
       "2888    https://www.theedgemarkets.com/article/can-top...  theedgemarkets.com   \n",
       "\n",
       "             published_date     topic  \n",
       "27583   2020-08-06 14:09:00    HEALTH  \n",
       "94783   2020-08-16 00:12:11    NATION  \n",
       "101314  2020-08-17 04:59:00     WORLD  \n",
       "15627   2020-08-04 23:55:02    SPORTS  \n",
       "2888    2020-08-03 09:00:00  BUSINESS  "
      ]
     },
     "execution_count": 25,
     "metadata": {},
     "output_type": "execute_result"
    }
   ],
   "source": [
    "df=pd.read_csv(\"backup.csv\")\n",
    "df =df.sample(10000,random_state=42)\n",
    "df.to_csv('sample.csv',index=False)\n",
    "df.head()"
   ]
  },
  {
   "cell_type": "code",
   "execution_count": 26,
   "metadata": {},
   "outputs": [],
   "source": [
    "df=df.drop([\"link\",\"domain\",\"published_date\"],axis=1)"
   ]
  },
  {
   "cell_type": "code",
   "execution_count": 27,
   "metadata": {},
   "outputs": [
    {
     "data": {
      "text/plain": [
       "topic\n",
       "BUSINESS         13.4%\n",
       "ENTERTAINMENT    14.3%\n",
       "HEALTH           13.4%\n",
       "NATION           14.0%\n",
       "SCIENCE           3.2%\n",
       "SPORTS           13.6%\n",
       "TECHNOLOGY       13.8%\n",
       "WORLD            14.3%\n",
       "Name: proportion, dtype: object"
      ]
     },
     "execution_count": 27,
     "metadata": {},
     "output_type": "execute_result"
    }
   ],
   "source": [
    "#The percentage of each class in the data\n",
    "\n",
    "df.topic.value_counts(normalize=True).sort_index().mul(100).round(1).astype(str) + '%'"
   ]
  },
  {
   "cell_type": "code",
   "execution_count": 23,
   "metadata": {},
   "outputs": [],
   "source": [
    "# Define text preprocessing functions\n",
    "def lemmatization(text):\n",
    "    \"\"\"Lemmatize the text.\"\"\"\n",
    "    lemmatizer = WordNetLemmatizer()\n",
    "    text = text.split()\n",
    "    text = [lemmatizer.lemmatize(word) for word in text]\n",
    "    return \" \".join(text)\n",
    "\n",
    "def remove_stop_words(text):\n",
    "    \"\"\"Remove stop words from the text.\"\"\"\n",
    "    stop_words = set(stopwords.words(\"english\"))\n",
    "    text = [word for word in str(text).split() if word not in stop_words]\n",
    "    return \" \".join(text)\n",
    "\n",
    "def removing_numbers(text):\n",
    "    \"\"\"Remove numbers from the text.\"\"\"\n",
    "    text = ''.join([char for char in text if not char.isdigit()])\n",
    "    return text\n",
    "\n",
    "def lower_case(text):\n",
    "    \"\"\"Convert text to lower case.\"\"\"\n",
    "    text = text.split()\n",
    "    text = [word.lower() for word in text]\n",
    "    return \" \".join(text)\n",
    "\n",
    "def removing_punctuations(text):\n",
    "    \"\"\"Remove punctuations from the text.\"\"\"\n",
    "    text = re.sub('[%s]' % re.escape(string.punctuation), ' ', text)\n",
    "    text = text.replace('؛', \"\")\n",
    "    text = re.sub(r'\\s+', ' ', text).strip()\n",
    "    return text\n",
    "\n",
    "def removing_urls(text):\n",
    "    \"\"\"Remove URLs from the text.\"\"\"\n",
    "    url_pattern = re.compile(r'https?://\\S+|www\\.\\S+')\n",
    "    return url_pattern.sub(r'', text)\n",
    "\n",
    "def normalize_text(df):\n",
    "    \"\"\"Normalize the text data.\"\"\"\n",
    "    try:\n",
    "        df['title'] = df['title'].apply(lower_case)\n",
    "        df['title'] = df['title'].apply(remove_stop_words)\n",
    "        df['title'] = df['title'].apply(removing_numbers)\n",
    "        df['title'] = df['title'].apply(removing_punctuations)\n",
    "        df['title'] = df['title'].apply(removing_urls)\n",
    "        df['title'] = df['title'].apply(lemmatization)\n",
    "        return df\n",
    "    except Exception as e:\n",
    "        print(f'Error during text normalization: {e}')\n",
    "        raise"
   ]
  },
  {
   "cell_type": "code",
   "execution_count": 28,
   "metadata": {},
   "outputs": [
    {
     "data": {
      "text/html": [
       "<div>\n",
       "<style scoped>\n",
       "    .dataframe tbody tr th:only-of-type {\n",
       "        vertical-align: middle;\n",
       "    }\n",
       "\n",
       "    .dataframe tbody tr th {\n",
       "        vertical-align: top;\n",
       "    }\n",
       "\n",
       "    .dataframe thead th {\n",
       "        text-align: right;\n",
       "    }\n",
       "</style>\n",
       "<table border=\"1\" class=\"dataframe\">\n",
       "  <thead>\n",
       "    <tr style=\"text-align: right;\">\n",
       "      <th></th>\n",
       "      <th>title</th>\n",
       "      <th>topic</th>\n",
       "    </tr>\n",
       "  </thead>\n",
       "  <tbody>\n",
       "    <tr>\n",
       "      <th>27583</th>\n",
       "      <td>glasgow pub hit coronavirus drinker test posit...</td>\n",
       "      <td>HEALTH</td>\n",
       "    </tr>\n",
       "    <tr>\n",
       "      <th>94783</th>\n",
       "      <td>dinosaur leaf mark kelantan</td>\n",
       "      <td>NATION</td>\n",
       "    </tr>\n",
       "    <tr>\n",
       "      <th>101314</th>\n",
       "      <td>india cross grim milestone covid death</td>\n",
       "      <td>WORLD</td>\n",
       "    </tr>\n",
       "    <tr>\n",
       "      <th>15627</th>\n",
       "      <td>tom brady rob gronkowski buccaneer hit practic...</td>\n",
       "      <td>SPORTS</td>\n",
       "    </tr>\n",
       "    <tr>\n",
       "      <th>2888</th>\n",
       "      <td>top glove surpass market cap asean s largest bank</td>\n",
       "      <td>BUSINESS</td>\n",
       "    </tr>\n",
       "  </tbody>\n",
       "</table>\n",
       "</div>"
      ],
      "text/plain": [
       "                                                    title     topic\n",
       "27583   glasgow pub hit coronavirus drinker test posit...    HEALTH\n",
       "94783                         dinosaur leaf mark kelantan    NATION\n",
       "101314             india cross grim milestone covid death     WORLD\n",
       "15627   tom brady rob gronkowski buccaneer hit practic...    SPORTS\n",
       "2888    top glove surpass market cap asean s largest bank  BUSINESS"
      ]
     },
     "execution_count": 28,
     "metadata": {},
     "output_type": "execute_result"
    }
   ],
   "source": [
    "df=normalize_text(df)\n",
    "df.head()"
   ]
  },
  {
   "cell_type": "code",
   "execution_count": 29,
   "metadata": {},
   "outputs": [],
   "source": [
    "from sklearn.preprocessing import LabelEncoder\n",
    "label_encoder = LabelEncoder()\n",
    "df[\"topic\"] = label_encoder.fit_transform(df[\"topic\"])"
   ]
  },
  {
   "cell_type": "code",
   "execution_count": 45,
   "metadata": {},
   "outputs": [],
   "source": [
    "vectorizer = TfidfVectorizer(max_features=10000)\n",
    "X = vectorizer.fit_transform(df['title'])\n",
    "y = df['topic']"
   ]
  },
  {
   "cell_type": "code",
   "execution_count": 46,
   "metadata": {},
   "outputs": [],
   "source": [
    "X_train, X_test, y_train, y_test = train_test_split(X, y, test_size=0.2, random_state=42)\n"
   ]
  },
  {
   "cell_type": "code",
   "execution_count": 31,
   "metadata": {},
   "outputs": [
    {
     "data": {
      "text/html": [
       "<pre style=\"white-space:pre;overflow-x:auto;line-height:normal;font-family:Menlo,'DejaVu Sans Mono',consolas,'Courier New',monospace\">Accessing as bhauryal7\n",
       "</pre>\n"
      ],
      "text/plain": [
       "Accessing as bhauryal7\n"
      ]
     },
     "metadata": {},
     "output_type": "display_data"
    },
    {
     "data": {
      "text/html": [
       "<pre style=\"white-space:pre;overflow-x:auto;line-height:normal;font-family:Menlo,'DejaVu Sans Mono',consolas,'Courier New',monospace\">Initialized MLflow to track repo <span style=\"color: #008000; text-decoration-color: #008000\">\"bhauryal7/NewsClassification\"</span>\n",
       "</pre>\n"
      ],
      "text/plain": [
       "Initialized MLflow to track repo \u001b[32m\"bhauryal7/NewsClassification\"\u001b[0m\n"
      ]
     },
     "metadata": {},
     "output_type": "display_data"
    },
    {
     "data": {
      "text/html": [
       "<pre style=\"white-space:pre;overflow-x:auto;line-height:normal;font-family:Menlo,'DejaVu Sans Mono',consolas,'Courier New',monospace\">Repository bhauryal7/NewsClassification initialized!\n",
       "</pre>\n"
      ],
      "text/plain": [
       "Repository bhauryal7/NewsClassification initialized!\n"
      ]
     },
     "metadata": {},
     "output_type": "display_data"
    },
    {
     "name": "stderr",
     "output_type": "stream",
     "text": [
      "2025/03/18 16:43:31 INFO mlflow.tracking.fluent: Experiment with name 'Logistic Regression Baseline' does not exist. Creating a new experiment.\n"
     ]
    },
    {
     "data": {
      "text/plain": [
       "<Experiment: artifact_location='mlflow-artifacts:/49127cd8129d4f7da5c8e6ddcf808605', creation_time=1742312611100, experiment_id='0', last_update_time=1742312611100, lifecycle_stage='active', name='Logistic Regression Baseline', tags={}>"
      ]
     },
     "execution_count": 31,
     "metadata": {},
     "output_type": "execute_result"
    }
   ],
   "source": [
    "import dagshub\n",
    "\n",
    "mlflow.set_tracking_uri('https://dagshub.com/bhauryal7/NewsClassification.mlflow')\n",
    "dagshub.init(repo_owner='bhauryal7', repo_name='NewsClassification', mlflow=True)\n",
    "\n",
    "# mlflow.set_experiment(\"Logistic Regression Baseline\")\n",
    "mlflow.set_experiment(\"Logistic Regression Baseline\")"
   ]
  },
  {
   "cell_type": "code",
   "execution_count": 47,
   "metadata": {},
   "outputs": [
    {
     "name": "stderr",
     "output_type": "stream",
     "text": [
      "2025-03-18 16:53:43,555 - INFO - Starting MLflow run...\n",
      "2025-03-18 16:53:43,776 - INFO - Logging preprocessing parameters...\n",
      "2025-03-18 16:53:44,452 - INFO - Initializing Logistic Regression model...\n",
      "2025-03-18 16:53:44,453 - INFO - Fitting the model...\n",
      "2025-03-18 16:53:44,921 - INFO - Model training complete.\n",
      "2025-03-18 16:53:44,922 - INFO - Logging model parameters...\n",
      "2025-03-18 16:53:45,165 - INFO - Making predictions...\n",
      "2025-03-18 16:53:45,170 - INFO - Calculating evaluation metrics...\n"
     ]
    },
    {
     "name": "stdout",
     "output_type": "stream",
     "text": [
      "\n",
      "Classification Report:\n",
      "               precision    recall  f1-score   support\n",
      "\n",
      "           0       0.69      0.62      0.65       259\n",
      "           1       0.71      0.83      0.77       293\n",
      "           2       0.70      0.79      0.74       260\n",
      "           3       0.57      0.60      0.58       273\n",
      "           4       0.91      0.44      0.59        71\n",
      "           5       0.88      0.83      0.86       283\n",
      "           6       0.83      0.79      0.81       294\n",
      "           7       0.60      0.58      0.59       267\n",
      "\n",
      "    accuracy                           0.71      2000\n",
      "   macro avg       0.74      0.69      0.70      2000\n",
      "weighted avg       0.72      0.71      0.71      2000\n",
      "\n"
     ]
    },
    {
     "name": "stderr",
     "output_type": "stream",
     "text": [
      "2025-03-18 16:53:46,313 - INFO - Saving and logging the model...\n",
      "\u001b[31m2025/03/18 16:53:50 WARNING mlflow.models.model: Model logged without a signature and input example. Please set `input_example` parameter when logging the model to auto infer the model signature.\u001b[0m\n",
      "2025-03-18 16:53:53,483 - INFO - Model training and logging completed in 9.71 seconds.\n"
     ]
    },
    {
     "name": "stdout",
     "output_type": "stream",
     "text": [
      "🏃 View run bemused-roo-725 at: https://dagshub.com/bhauryal7/NewsClassification.mlflow/#/experiments/0/runs/cf3eeb6d63804f338b86ca5d8414e18a\n",
      "🧪 View experiment at: https://dagshub.com/bhauryal7/NewsClassification.mlflow/#/experiments/0\n"
     ]
    }
   ],
   "source": [
    "import mlflow\n",
    "import logging\n",
    "import os\n",
    "import time\n",
    "from sklearn.linear_model import LogisticRegression\n",
    "from sklearn.metrics import accuracy_score, precision_score, recall_score, f1_score, classification_report\n",
    "\n",
    "# Configure logging\n",
    "logging.basicConfig(level=logging.INFO, format=\"%(asctime)s - %(levelname)s - %(message)s\")\n",
    "\n",
    "logging.info(\"Starting MLflow run...\")\n",
    "\n",
    "with mlflow.start_run():\n",
    "    start_time = time.time()\n",
    "    \n",
    "    try:\n",
    "        logging.info(\"Logging preprocessing parameters...\")\n",
    "        mlflow.log_param(\"vectorizer\", \"TfidfVectorizer\")\n",
    "        mlflow.log_param(\"num_features\", 10000)\n",
    "        mlflow.log_param(\"test_size\", 0.2)\n",
    "\n",
    "        logging.info(\"Initializing Logistic Regression model...\")\n",
    "        model = LogisticRegression(C=1,max_iter=1000)  # Increase max_iter to prevent non-convergence issues\n",
    "\n",
    "        logging.info(\"Fitting the model...\")\n",
    "        model.fit(X_train, y_train)\n",
    "        logging.info(\"Model training complete.\")\n",
    "\n",
    "        logging.info(\"Logging model parameters...\")\n",
    "        mlflow.log_param(\"model\", \"Logistic Regression\")\n",
    "\n",
    "        logging.info(\"Making predictions...\")\n",
    "        y_pred = model.predict(X_test)\n",
    "\n",
    "        logging.info(\"Calculating evaluation metrics...\")\n",
    "        accuracy = accuracy_score(y_test, y_pred)\n",
    "\n",
    "        class_report = classification_report(y_test,y_pred)\n",
    "\n",
    "        print(\"\\nClassification Report:\\n\", class_report)\n",
    "\n",
    "        # Log metrics in MLflow\n",
    "        mlflow.log_metric(\"accuracy\", accuracy)\n",
    "        mlflow.log_text(class_report, \"classification_report.txt\")\n",
    "\n",
    "        logging.info(\"Saving and logging the model...\")\n",
    "        mlflow.sklearn.log_model(model, \"model\")\n",
    "\n",
    "        # Log execution time\n",
    "        end_time = time.time()\n",
    "        logging.info(f\"Model training and logging completed in {end_time - start_time:.2f} seconds.\")\n",
    "\n",
    "    except Exception as e:\n",
    "        logging.error(f\"An error occurred: {e}\", exc_info=True)"
   ]
  },
  {
   "cell_type": "code",
   "execution_count": null,
   "metadata": {},
   "outputs": [],
   "source": []
  }
 ],
 "metadata": {
  "kernelspec": {
   "display_name": "base",
   "language": "python",
   "name": "python3"
  },
  "language_info": {
   "codemirror_mode": {
    "name": "ipython",
    "version": 3
   },
   "file_extension": ".py",
   "mimetype": "text/x-python",
   "name": "python",
   "nbconvert_exporter": "python",
   "pygments_lexer": "ipython3",
   "version": "3.12.4"
  }
 },
 "nbformat": 4,
 "nbformat_minor": 2
}
